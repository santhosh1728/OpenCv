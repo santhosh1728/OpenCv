{
  "nbformat": 4,
  "nbformat_minor": 0,
  "metadata": {
    "colab": {
      "provenance": [],
      "gpuType": "T4",
      "authorship_tag": "ABX9TyN9FFOTReQAkcKFXxyD1/l0",
      "include_colab_link": true
    },
    "kernelspec": {
      "name": "python3",
      "display_name": "Python 3"
    },
    "language_info": {
      "name": "python"
    },
    "accelerator": "GPU"
  },
  "cells": [
    {
      "cell_type": "markdown",
      "metadata": {
        "id": "view-in-github",
        "colab_type": "text"
      },
      "source": [
        "<a href=\"https://colab.research.google.com/github/santhosh1728/OpenCv/blob/main/face_detection(open_cv).ipynb\" target=\"_parent\"><img src=\"https://colab.research.google.com/assets/colab-badge.svg\" alt=\"Open In Colab\"/></a>"
      ]
    },
    {
      "cell_type": "code",
      "source": [
        "import cv2"
      ],
      "metadata": {
        "id": "I-5XxHo48o0b"
      },
      "execution_count": 1,
      "outputs": []
    },
    {
      "cell_type": "code",
      "source": [
        "face_cascade = cv2.CascadeClassifier('haarcascade_frontalface_default.xml') # using the pre-trained classifier from OpenCv"
      ],
      "metadata": {
        "id": "5q-Ybb5994mX"
      },
      "execution_count": 2,
      "outputs": []
    },
    {
      "cell_type": "markdown",
      "source": [],
      "metadata": {
        "id": "QTvCc94uAE-l"
      }
    },
    {
      "cell_type": "code",
      "source": [
        "image = cv2.imread('multiple_images.jpeg') # unpload the input image"
      ],
      "metadata": {
        "id": "rCldmLs2-AOR"
      },
      "execution_count": 7,
      "outputs": []
    },
    {
      "cell_type": "code",
      "source": [
        "faces = face_cascade.detectMultiScale(image,1.1,4) #perform face detection"
      ],
      "metadata": {
        "id": "lFSONhmy-Q5T"
      },
      "execution_count": 8,
      "outputs": []
    },
    {
      "cell_type": "code",
      "source": [],
      "metadata": {
        "id": "nbudRccPGFlT"
      },
      "execution_count": 8,
      "outputs": []
    },
    {
      "cell_type": "code",
      "source": [
        "for(x,y,w,h) in faces:\n",
        "  cv2.rectangle(image,(x,y),(x+w,y+h),(255,0,0),2) # Drawing rectangle aroung the faces"
      ],
      "metadata": {
        "id": "a1eWjsVh-X2s"
      },
      "execution_count": 9,
      "outputs": []
    },
    {
      "cell_type": "code",
      "source": [],
      "metadata": {
        "id": "0S0OwWpiFx-O"
      },
      "execution_count": 9,
      "outputs": []
    },
    {
      "cell_type": "code",
      "source": [
        "cv2.imwrite(\"multiple_face_detected.png\",image)  # Exporting the image file\n",
        "print(\"photo successfully exported!\")"
      ],
      "metadata": {
        "colab": {
          "base_uri": "https://localhost:8080/"
        },
        "id": "xG7oghH3-d56",
        "outputId": "f80632e1-ea02-4d91-bd7d-70631c395066"
      },
      "execution_count": 11,
      "outputs": [
        {
          "output_type": "stream",
          "name": "stdout",
          "text": [
            "photo successfully exported!\n"
          ]
        }
      ]
    },
    {
      "cell_type": "code",
      "source": [],
      "metadata": {
        "id": "Hg6tMFPbD_nu"
      },
      "execution_count": null,
      "outputs": []
    },
    {
      "cell_type": "code",
      "source": [],
      "metadata": {
        "id": "pUCvRkrH-_Nc"
      },
      "execution_count": null,
      "outputs": []
    }
  ]
}