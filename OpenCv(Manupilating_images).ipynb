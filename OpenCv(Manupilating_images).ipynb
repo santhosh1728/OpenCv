{
 "cells": [
  {
   "cell_type": "code",
   "execution_count": null,
   "id": "db1ff24c",
   "metadata": {},
   "outputs": [],
   "source": [
    "import cv2\n",
    "import numpy as np\n",
    "import matplotlib.pyplot as plt\n",
    "from PIL import Image\n",
    "from IPython.display import Image\n",
    "%matplotlib inline"
   ]
  },
  {
   "cell_type": "code",
   "execution_count": null,
   "id": "63e07726",
   "metadata": {},
   "outputs": [],
   "source": [
    "# Read image as gray scale\n",
    "img1 = cv2.imread('image.jpg',0)\n",
    "\n",
    "# Set color map to gray scale for proper rendering\n",
    "plt.imshow(img1,cmap = 'gray')\n",
    "print(img1)"
   ]
  },
  {
   "cell_type": "code",
   "execution_count": null,
   "id": "d0771679",
   "metadata": {},
   "outputs": [],
   "source": [
    "img2 = cv2.imread('image2.jpg')\n",
    "plt.imshow(img2, cmap = 'gray')\n",
    "print(img2)"
   ]
  },
  {
   "cell_type": "code",
   "execution_count": null,
   "id": "33cd8e37",
   "metadata": {},
   "outputs": [],
   "source": [
    "print(img1[0,0])\n",
    "print(img1[0,6])"
   ]
  },
  {
   "cell_type": "markdown",
   "id": "c10b8ddf",
   "metadata": {},
   "source": [
    "### Modifying Image Pixels"
   ]
  },
  {
   "cell_type": "code",
   "execution_count": null,
   "id": "08276dc6",
   "metadata": {},
   "outputs": [],
   "source": [
    "img1_copy = img1.copy()\n",
    "img1_copy[2,2] = 100\n",
    "img1_copy[2,3] = 100\n",
    "img1_copy[3,2] = 100\n",
    "img1_copy[3,3] = 100\n",
    "\n",
    "plt.imshow(img1_copy, cmap = 'gray')\n",
    "print(img1_copy)"
   ]
  },
  {
   "cell_type": "code",
   "execution_count": null,
   "id": "067466ef",
   "metadata": {},
   "outputs": [],
   "source": [
    "img1_copy[2:3,2:3] = 100\n",
    "img1_copy"
   ]
  },
  {
   "cell_type": "markdown",
   "id": "c8462f31",
   "metadata": {},
   "source": [
    "### Cropping Images"
   ]
  },
  {
   "cell_type": "code",
   "execution_count": null,
   "id": "c31ec52c",
   "metadata": {},
   "outputs": [],
   "source": [
    "img1_bgr = cv2.imread('image.jpg',cv2.IMREAD_COLOR)\n",
    "img1_rgb = img1_bgr[:,:,::-1]\n",
    "plt.imshow(img1_rgb)"
   ]
  },
  {
   "cell_type": "markdown",
   "id": "b50feaa8",
   "metadata": {},
   "source": [
    "### Crop out the middle region of the image"
   ]
  },
  {
   "cell_type": "code",
   "execution_count": null,
   "id": "d7d68fc1",
   "metadata": {},
   "outputs": [],
   "source": [
    "cropped_region = img1_rgb[200:500, 300:800]\n",
    "plt.imshow(cropped_region)"
   ]
  },
  {
   "cell_type": "markdown",
   "id": "6b7f4988",
   "metadata": {},
   "source": [
    "### Resizing Images"
   ]
  },
  {
   "cell_type": "markdown",
   "id": "09a100a4",
   "metadata": {},
   "source": [
    "## Medthod 1: Specifying Scaling Factor using fx and fy"
   ]
  },
  {
   "cell_type": "code",
   "execution_count": null,
   "id": "0cdbecd5",
   "metadata": {},
   "outputs": [],
   "source": [
    "resized_cropped_region = cv2.resize(cropped_region, None, fx=2,fy=2)\n",
    "plt.imshow(resized_cropped_region)"
   ]
  },
  {
   "cell_type": "markdown",
   "id": "8ff56198",
   "metadata": {},
   "source": [
    "## Method 2: Specifying exact size of the output image"
   ]
  },
  {
   "cell_type": "code",
   "execution_count": null,
   "id": "8e5b228c",
   "metadata": {},
   "outputs": [],
   "source": [
    "desired_width = 100\n",
    "desired_height = 200\n",
    "dim = (desired_width,desired_height)\n",
    "\n",
    "# Resized background image to see size as logo image\n",
    "resized_cropped_region = cv2.resize(cropped_region,dsize=dim, interpolation = cv2.INTER_AREA)\n",
    "plt.imshow(resized_cropped_region)"
   ]
  },
  {
   "cell_type": "markdown",
   "id": "f64085eb",
   "metadata": {},
   "source": [
    "## Resize while maintaining aspect ratio"
   ]
  },
  {
   "cell_type": "code",
   "execution_count": null,
   "id": "0747f197",
   "metadata": {},
   "outputs": [],
   "source": [
    "# Method 2: Using \"dsize\""
   ]
  },
  {
   "cell_type": "code",
   "execution_count": null,
   "id": "ba7ba744",
   "metadata": {},
   "outputs": [],
   "source": [
    "desired_width = 100\n",
    "aspect_ratio = desired_width / cropped_region.shape[1]\n",
    "\n",
    "desired_height = int(cropped_region.shape[0] * aspect_ratio)\n",
    "dim = (desired_width, desired_height)\n",
    "\n",
    "# Resize image\n",
    "resized_cropped_region = cv2.resize(cropped_region, dsize=dim, interpolation = cv2.INTER_AREA)\n",
    "plt.imshow(resized_cropped_region)"
   ]
  },
  {
   "cell_type": "markdown",
   "id": "245bae4b",
   "metadata": {},
   "source": [
    "##### Let's actually shw the cropped sized image"
   ]
  },
  {
   "cell_type": "code",
   "execution_count": null,
   "id": "2ab24b87",
   "metadata": {},
   "outputs": [],
   "source": [
    "# swap channel order\n",
    "resized_cropped_region = resized_cropped_region[:,:,::-1]\n",
    "\n",
    "#save resized image to disk\n",
    "cv2.imwrite('resized_cropped_region.png',resized_cropped_region)\n",
    "\n",
    "# Display the cropped and resized image\n",
    "Image(filename = \"resized_cropped_region.png\")"
   ]
  },
  {
   "cell_type": "code",
   "execution_count": null,
   "id": "5a6947eb",
   "metadata": {},
   "outputs": [],
   "source": [
    "# swap channel order\n",
    "cropped_region = cropped_region[:,:,::-1]\n",
    "\n",
    "#save cropped image to disk\n",
    "cv2.imwrite('cropped_region.png',cropped_region)\n",
    "\n",
    "# Display the cropped and resized image\n",
    "Image(filename = \"cropped_region.png\")"
   ]
  },
  {
   "cell_type": "markdown",
   "id": "bf620ffe",
   "metadata": {},
   "source": [
    "# Flipping Images"
   ]
  },
  {
   "cell_type": "markdown",
   "id": "f09a9785",
   "metadata": {},
   "source": [
    "###### dst = cv.flip(src,filpCode)\n",
    "src -> input image\n",
    "\n",
    "flipcode -> a flag to specify how to flip the array; 0 means flipping around the x-axis and positive value\n",
    "(for example 1) means flipping around y-axis. Negative value( for example -1) means flipping around both axis"
   ]
  },
  {
   "cell_type": "code",
   "execution_count": null,
   "id": "3564ea2e",
   "metadata": {},
   "outputs": [],
   "source": [
    "img1_rgb_flipped_horz = cv2.flip(img1_rgb , 1)\n",
    "img1_rgb_filpped_vert = cv2.flip(img1_rgb, 0)\n",
    "img1_rgb_flipped_both = cv2.flip(img1_rgb, -1)\n",
    "\n",
    "#show the images\n",
    "plt.figure(figsize = [18,5])\n",
    "plt.subplot(141);plt.imshow(img1_rgb_flipped_horz);plt.title('Horizontal Flip');\n",
    "plt.subplot(142);plt.imshow(img1_rgb_filpped_vert);plt.title('Vertical Flip');\n",
    "plt.subplot(143);plt.imshow(img1_rgb_flipped_both);plt.title('Both Flipped');\n",
    "plt.subplot(144);plt.imshow(img1_rgb);plt.title('Original');"
   ]
  },
  {
   "cell_type": "code",
   "execution_count": null,
   "id": "20bb95fa",
   "metadata": {},
   "outputs": [],
   "source": []
  }
 ],
 "metadata": {
  "kernelspec": {
   "display_name": "Python 3 (ipykernel)",
   "language": "python",
   "name": "python3"
  },
  "language_info": {
   "codemirror_mode": {
    "name": "ipython",
    "version": 3
   },
   "file_extension": ".py",
   "mimetype": "text/x-python",
   "name": "python",
   "nbconvert_exporter": "python",
   "pygments_lexer": "ipython3",
   "version": "3.11.4"
  }
 },
 "nbformat": 4,
 "nbformat_minor": 5
}
